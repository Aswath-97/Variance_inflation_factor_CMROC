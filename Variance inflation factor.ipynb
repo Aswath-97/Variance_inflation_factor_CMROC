{
 "cells": [
  {
   "cell_type": "code",
   "execution_count": 55,
   "id": "940fb89a-e6ad-4974-b919-f85d338c197a",
   "metadata": {
    "tags": []
   },
   "outputs": [],
   "source": [
    "from scipy import stats\n",
    "import statsmodels.api as sm\n",
    "from statsmodels.stats.outliers_influence import variance_inflation_factor\n",
    "import matplotlib.pyplot as plt"
   ]
  },
  {
   "cell_type": "code",
   "execution_count": 56,
   "id": "1fb60fb2-95ab-406a-9c6d-64512779609a",
   "metadata": {
    "tags": []
   },
   "outputs": [],
   "source": [
    "import pandas as pd"
   ]
  },
  {
   "cell_type": "code",
   "execution_count": 57,
   "id": "272fc6e0-fe75-4431-903c-f02e53435b70",
   "metadata": {
    "tags": []
   },
   "outputs": [
    {
     "data": {
      "text/html": [
       "<div>\n",
       "<style scoped>\n",
       "    .dataframe tbody tr th:only-of-type {\n",
       "        vertical-align: middle;\n",
       "    }\n",
       "\n",
       "    .dataframe tbody tr th {\n",
       "        vertical-align: top;\n",
       "    }\n",
       "\n",
       "    .dataframe thead th {\n",
       "        text-align: right;\n",
       "    }\n",
       "</style>\n",
       "<table border=\"1\" class=\"dataframe\">\n",
       "  <thead>\n",
       "    <tr style=\"text-align: right;\">\n",
       "      <th></th>\n",
       "      <th>Coolant temp</th>\n",
       "      <th>Fuel pressure</th>\n",
       "      <th>LOG(Engine rpm)</th>\n",
       "      <th>LOG(Lub oil pressure)</th>\n",
       "      <th>LOG(Coolant pressure)</th>\n",
       "      <th>lub oil temp</th>\n",
       "      <th>Engine Condition</th>\n",
       "    </tr>\n",
       "  </thead>\n",
       "  <tbody>\n",
       "    <tr>\n",
       "      <th>0</th>\n",
       "      <td>82.445724</td>\n",
       "      <td>16.193866</td>\n",
       "      <td>6.775366</td>\n",
       "      <td>1.078956</td>\n",
       "      <td>0.901990</td>\n",
       "      <td>77.640934</td>\n",
       "      <td>0</td>\n",
       "    </tr>\n",
       "    <tr>\n",
       "      <th>1</th>\n",
       "      <td>79.645777</td>\n",
       "      <td>6.553147</td>\n",
       "      <td>6.253829</td>\n",
       "      <td>1.085779</td>\n",
       "      <td>0.062361</td>\n",
       "      <td>77.752266</td>\n",
       "      <td>1</td>\n",
       "    </tr>\n",
       "    <tr>\n",
       "      <th>2</th>\n",
       "      <td>71.774629</td>\n",
       "      <td>19.510172</td>\n",
       "      <td>6.159095</td>\n",
       "      <td>1.310448</td>\n",
       "      <td>1.315726</td>\n",
       "      <td>74.129907</td>\n",
       "      <td>1</td>\n",
       "    </tr>\n",
       "    <tr>\n",
       "      <th>3</th>\n",
       "      <td>87.000225</td>\n",
       "      <td>15.738871</td>\n",
       "      <td>6.428105</td>\n",
       "      <td>1.735704</td>\n",
       "      <td>0.718937</td>\n",
       "      <td>78.396989</td>\n",
       "      <td>0</td>\n",
       "    </tr>\n",
       "    <tr>\n",
       "      <th>4</th>\n",
       "      <td>75.669818</td>\n",
       "      <td>6.679231</td>\n",
       "      <td>7.107425</td>\n",
       "      <td>1.383597</td>\n",
       "      <td>0.794914</td>\n",
       "      <td>76.401152</td>\n",
       "      <td>0</td>\n",
       "    </tr>\n",
       "    <tr>\n",
       "      <th>...</th>\n",
       "      <td>...</td>\n",
       "      <td>...</td>\n",
       "      <td>...</td>\n",
       "      <td>...</td>\n",
       "      <td>...</td>\n",
       "      <td>...</td>\n",
       "      <td>...</td>\n",
       "    </tr>\n",
       "    <tr>\n",
       "      <th>16384</th>\n",
       "      <td>87.925087</td>\n",
       "      <td>4.981360</td>\n",
       "      <td>6.804615</td>\n",
       "      <td>1.415197</td>\n",
       "      <td>1.469386</td>\n",
       "      <td>75.951627</td>\n",
       "      <td>1</td>\n",
       "    </tr>\n",
       "    <tr>\n",
       "      <th>16385</th>\n",
       "      <td>74.928459</td>\n",
       "      <td>10.866701</td>\n",
       "      <td>6.542472</td>\n",
       "      <td>1.572301</td>\n",
       "      <td>1.822400</td>\n",
       "      <td>75.281430</td>\n",
       "      <td>1</td>\n",
       "    </tr>\n",
       "    <tr>\n",
       "      <th>16386</th>\n",
       "      <td>86.337345</td>\n",
       "      <td>4.927376</td>\n",
       "      <td>6.527958</td>\n",
       "      <td>0.983330</td>\n",
       "      <td>0.643732</td>\n",
       "      <td>76.844940</td>\n",
       "      <td>1</td>\n",
       "    </tr>\n",
       "    <tr>\n",
       "      <th>16387</th>\n",
       "      <td>73.624396</td>\n",
       "      <td>8.291816</td>\n",
       "      <td>6.545350</td>\n",
       "      <td>1.129518</td>\n",
       "      <td>0.200267</td>\n",
       "      <td>77.179693</td>\n",
       "      <td>1</td>\n",
       "    </tr>\n",
       "    <tr>\n",
       "      <th>16388</th>\n",
       "      <td>80.421421</td>\n",
       "      <td>3.962480</td>\n",
       "      <td>6.222576</td>\n",
       "      <td>1.328466</td>\n",
       "      <td>0.712286</td>\n",
       "      <td>75.564313</td>\n",
       "      <td>1</td>\n",
       "    </tr>\n",
       "  </tbody>\n",
       "</table>\n",
       "<p>16389 rows × 7 columns</p>\n",
       "</div>"
      ],
      "text/plain": [
       "       Coolant temp  Fuel pressure  LOG(Engine rpm)  LOG(Lub oil pressure)  \\\n",
       "0         82.445724      16.193866         6.775366               1.078956   \n",
       "1         79.645777       6.553147         6.253829               1.085779   \n",
       "2         71.774629      19.510172         6.159095               1.310448   \n",
       "3         87.000225      15.738871         6.428105               1.735704   \n",
       "4         75.669818       6.679231         7.107425               1.383597   \n",
       "...             ...            ...              ...                    ...   \n",
       "16384     87.925087       4.981360         6.804615               1.415197   \n",
       "16385     74.928459      10.866701         6.542472               1.572301   \n",
       "16386     86.337345       4.927376         6.527958               0.983330   \n",
       "16387     73.624396       8.291816         6.545350               1.129518   \n",
       "16388     80.421421       3.962480         6.222576               1.328466   \n",
       "\n",
       "       LOG(Coolant pressure)  lub oil temp  Engine Condition  \n",
       "0                   0.901990     77.640934                 0  \n",
       "1                   0.062361     77.752266                 1  \n",
       "2                   1.315726     74.129907                 1  \n",
       "3                   0.718937     78.396989                 0  \n",
       "4                   0.794914     76.401152                 0  \n",
       "...                      ...           ...               ...  \n",
       "16384               1.469386     75.951627                 1  \n",
       "16385               1.822400     75.281430                 1  \n",
       "16386               0.643732     76.844940                 1  \n",
       "16387               0.200267     77.179693                 1  \n",
       "16388               0.712286     75.564313                 1  \n",
       "\n",
       "[16389 rows x 7 columns]"
      ]
     },
     "execution_count": 57,
     "metadata": {},
     "output_type": "execute_result"
    }
   ],
   "source": [
    "df = pd.read_csv('Preprocessed Engine Data.csv')\n",
    "df"
   ]
  },
  {
   "cell_type": "code",
   "execution_count": 58,
   "id": "537440c2-fa4c-4acc-8445-d15b2d57121f",
   "metadata": {
    "tags": []
   },
   "outputs": [
    {
     "data": {
      "text/plain": [
       "(16389, 7)"
      ]
     },
     "execution_count": 58,
     "metadata": {},
     "output_type": "execute_result"
    }
   ],
   "source": [
    "df.shape"
   ]
  },
  {
   "cell_type": "code",
   "execution_count": 59,
   "id": "9ec6e669-2a83-4519-9e97-85f1a0e350a2",
   "metadata": {
    "tags": []
   },
   "outputs": [],
   "source": [
    "X = df.iloc[:,:-1]\n",
    "y = df.iloc[:,-1]"
   ]
  },
  {
   "cell_type": "code",
   "execution_count": 60,
   "id": "fe03e82e-7f09-4a48-be45-5bb7a787a1ff",
   "metadata": {
    "tags": []
   },
   "outputs": [
    {
     "data": {
      "text/html": [
       "<div>\n",
       "<style scoped>\n",
       "    .dataframe tbody tr th:only-of-type {\n",
       "        vertical-align: middle;\n",
       "    }\n",
       "\n",
       "    .dataframe tbody tr th {\n",
       "        vertical-align: top;\n",
       "    }\n",
       "\n",
       "    .dataframe thead th {\n",
       "        text-align: right;\n",
       "    }\n",
       "</style>\n",
       "<table border=\"1\" class=\"dataframe\">\n",
       "  <thead>\n",
       "    <tr style=\"text-align: right;\">\n",
       "      <th></th>\n",
       "      <th>Coolant temp</th>\n",
       "      <th>Fuel pressure</th>\n",
       "      <th>LOG(Engine rpm)</th>\n",
       "      <th>LOG(Lub oil pressure)</th>\n",
       "      <th>LOG(Coolant pressure)</th>\n",
       "      <th>lub oil temp</th>\n",
       "    </tr>\n",
       "  </thead>\n",
       "  <tbody>\n",
       "    <tr>\n",
       "      <th>0</th>\n",
       "      <td>82.445724</td>\n",
       "      <td>16.193866</td>\n",
       "      <td>6.775366</td>\n",
       "      <td>1.078956</td>\n",
       "      <td>0.901990</td>\n",
       "      <td>77.640934</td>\n",
       "    </tr>\n",
       "    <tr>\n",
       "      <th>1</th>\n",
       "      <td>79.645777</td>\n",
       "      <td>6.553147</td>\n",
       "      <td>6.253829</td>\n",
       "      <td>1.085779</td>\n",
       "      <td>0.062361</td>\n",
       "      <td>77.752266</td>\n",
       "    </tr>\n",
       "    <tr>\n",
       "      <th>2</th>\n",
       "      <td>71.774629</td>\n",
       "      <td>19.510172</td>\n",
       "      <td>6.159095</td>\n",
       "      <td>1.310448</td>\n",
       "      <td>1.315726</td>\n",
       "      <td>74.129907</td>\n",
       "    </tr>\n",
       "    <tr>\n",
       "      <th>3</th>\n",
       "      <td>87.000225</td>\n",
       "      <td>15.738871</td>\n",
       "      <td>6.428105</td>\n",
       "      <td>1.735704</td>\n",
       "      <td>0.718937</td>\n",
       "      <td>78.396989</td>\n",
       "    </tr>\n",
       "    <tr>\n",
       "      <th>4</th>\n",
       "      <td>75.669818</td>\n",
       "      <td>6.679231</td>\n",
       "      <td>7.107425</td>\n",
       "      <td>1.383597</td>\n",
       "      <td>0.794914</td>\n",
       "      <td>76.401152</td>\n",
       "    </tr>\n",
       "  </tbody>\n",
       "</table>\n",
       "</div>"
      ],
      "text/plain": [
       "   Coolant temp  Fuel pressure  LOG(Engine rpm)  LOG(Lub oil pressure)  \\\n",
       "0     82.445724      16.193866         6.775366               1.078956   \n",
       "1     79.645777       6.553147         6.253829               1.085779   \n",
       "2     71.774629      19.510172         6.159095               1.310448   \n",
       "3     87.000225      15.738871         6.428105               1.735704   \n",
       "4     75.669818       6.679231         7.107425               1.383597   \n",
       "\n",
       "   LOG(Coolant pressure)  lub oil temp  \n",
       "0               0.901990     77.640934  \n",
       "1               0.062361     77.752266  \n",
       "2               1.315726     74.129907  \n",
       "3               0.718937     78.396989  \n",
       "4               0.794914     76.401152  "
      ]
     },
     "execution_count": 60,
     "metadata": {},
     "output_type": "execute_result"
    }
   ],
   "source": [
    "X.head()"
   ]
  },
  {
   "cell_type": "code",
   "execution_count": 61,
   "id": "6e5538bd-f11b-488d-9548-e0bd14623ab5",
   "metadata": {
    "tags": []
   },
   "outputs": [
    {
     "data": {
      "text/plain": [
       "Index(['Coolant temp', 'Fuel pressure', 'LOG(Engine rpm)',\n",
       "       'LOG(Lub oil pressure)', 'LOG(Coolant pressure)', 'lub oil temp'],\n",
       "      dtype='object')"
      ]
     },
     "execution_count": 61,
     "metadata": {},
     "output_type": "execute_result"
    }
   ],
   "source": [
    "columns = X.columns\n",
    "columns"
   ]
  },
  {
   "cell_type": "code",
   "execution_count": 62,
   "id": "193ddf1d-7df9-4f50-9995-a2854972960f",
   "metadata": {
    "tags": []
   },
   "outputs": [],
   "source": [
    "from sklearn.preprocessing import StandardScaler\n",
    "scale = StandardScaler()\n",
    "\n",
    "X = scale.fit_transform(X)"
   ]
  },
  {
   "cell_type": "code",
   "execution_count": 63,
   "id": "a8de7064-eea9-4d31-8d17-985acb697092",
   "metadata": {
    "tags": []
   },
   "outputs": [
    {
     "data": {
      "text/plain": [
       "array([[ 0.6675031 ,  3.46121742,  0.48971912, -0.1500906 ,  0.32099964,\n",
       "         0.86180427],\n",
       "       [ 0.21634279, -0.03967712, -1.09632899, -0.13288061, -1.50535384,\n",
       "         0.94275269],\n",
       "       [-1.05194854,  4.66548843, -1.38442301,  0.43380141,  1.22095283,\n",
       "        -1.69103884],\n",
       "       ...,\n",
       "       [ 1.29456651, -0.63005357, -0.2626744 , -0.39128593, -0.24076125,\n",
       "         0.28304224],\n",
       "       [-0.75389249,  0.59169651, -0.20978433, -0.02255864, -1.2053828 ,\n",
       "         0.52643906],\n",
       "       [ 0.34132374, -0.98044207, -1.19137117,  0.47924675, -0.09164268,\n",
       "        -0.64809276]])"
      ]
     },
     "execution_count": 63,
     "metadata": {},
     "output_type": "execute_result"
    }
   ],
   "source": [
    "X"
   ]
  },
  {
   "cell_type": "code",
   "execution_count": 64,
   "id": "3f21f029-55cf-4610-aab5-1c1a2c1bdab3",
   "metadata": {
    "tags": []
   },
   "outputs": [
    {
     "data": {
      "text/html": [
       "<div>\n",
       "<style scoped>\n",
       "    .dataframe tbody tr th:only-of-type {\n",
       "        vertical-align: middle;\n",
       "    }\n",
       "\n",
       "    .dataframe tbody tr th {\n",
       "        vertical-align: top;\n",
       "    }\n",
       "\n",
       "    .dataframe thead th {\n",
       "        text-align: right;\n",
       "    }\n",
       "</style>\n",
       "<table border=\"1\" class=\"dataframe\">\n",
       "  <thead>\n",
       "    <tr style=\"text-align: right;\">\n",
       "      <th></th>\n",
       "      <th>Coolant temp</th>\n",
       "      <th>Fuel pressure</th>\n",
       "      <th>LOG(Engine rpm)</th>\n",
       "      <th>LOG(Lub oil pressure)</th>\n",
       "      <th>LOG(Coolant pressure)</th>\n",
       "      <th>lub oil temp</th>\n",
       "    </tr>\n",
       "  </thead>\n",
       "  <tbody>\n",
       "    <tr>\n",
       "      <th>0</th>\n",
       "      <td>0.667503</td>\n",
       "      <td>3.461217</td>\n",
       "      <td>0.489719</td>\n",
       "      <td>-0.150091</td>\n",
       "      <td>0.321000</td>\n",
       "      <td>0.861804</td>\n",
       "    </tr>\n",
       "    <tr>\n",
       "      <th>1</th>\n",
       "      <td>0.216343</td>\n",
       "      <td>-0.039677</td>\n",
       "      <td>-1.096329</td>\n",
       "      <td>-0.132881</td>\n",
       "      <td>-1.505354</td>\n",
       "      <td>0.942753</td>\n",
       "    </tr>\n",
       "    <tr>\n",
       "      <th>2</th>\n",
       "      <td>-1.051949</td>\n",
       "      <td>4.665488</td>\n",
       "      <td>-1.384423</td>\n",
       "      <td>0.433801</td>\n",
       "      <td>1.220953</td>\n",
       "      <td>-1.691039</td>\n",
       "    </tr>\n",
       "    <tr>\n",
       "      <th>3</th>\n",
       "      <td>1.401378</td>\n",
       "      <td>3.295993</td>\n",
       "      <td>-0.566336</td>\n",
       "      <td>1.506421</td>\n",
       "      <td>-0.077175</td>\n",
       "      <td>1.411526</td>\n",
       "    </tr>\n",
       "    <tr>\n",
       "      <th>4</th>\n",
       "      <td>-0.424310</td>\n",
       "      <td>0.006108</td>\n",
       "      <td>1.499546</td>\n",
       "      <td>0.618305</td>\n",
       "      <td>0.088088</td>\n",
       "      <td>-0.039633</td>\n",
       "    </tr>\n",
       "    <tr>\n",
       "      <th>...</th>\n",
       "      <td>...</td>\n",
       "      <td>...</td>\n",
       "      <td>...</td>\n",
       "      <td>...</td>\n",
       "      <td>...</td>\n",
       "      <td>...</td>\n",
       "    </tr>\n",
       "    <tr>\n",
       "      <th>16384</th>\n",
       "      <td>1.550402</td>\n",
       "      <td>-0.610450</td>\n",
       "      <td>0.578667</td>\n",
       "      <td>0.698008</td>\n",
       "      <td>1.555192</td>\n",
       "      <td>-0.366479</td>\n",
       "    </tr>\n",
       "    <tr>\n",
       "      <th>16385</th>\n",
       "      <td>-0.543767</td>\n",
       "      <td>1.526731</td>\n",
       "      <td>-0.218536</td>\n",
       "      <td>1.094271</td>\n",
       "      <td>2.323066</td>\n",
       "      <td>-0.853775</td>\n",
       "    </tr>\n",
       "    <tr>\n",
       "      <th>16386</th>\n",
       "      <td>1.294567</td>\n",
       "      <td>-0.630054</td>\n",
       "      <td>-0.262674</td>\n",
       "      <td>-0.391286</td>\n",
       "      <td>-0.240761</td>\n",
       "      <td>0.283042</td>\n",
       "    </tr>\n",
       "    <tr>\n",
       "      <th>16387</th>\n",
       "      <td>-0.753892</td>\n",
       "      <td>0.591697</td>\n",
       "      <td>-0.209784</td>\n",
       "      <td>-0.022559</td>\n",
       "      <td>-1.205383</td>\n",
       "      <td>0.526439</td>\n",
       "    </tr>\n",
       "    <tr>\n",
       "      <th>16388</th>\n",
       "      <td>0.341324</td>\n",
       "      <td>-0.980442</td>\n",
       "      <td>-1.191371</td>\n",
       "      <td>0.479247</td>\n",
       "      <td>-0.091643</td>\n",
       "      <td>-0.648093</td>\n",
       "    </tr>\n",
       "  </tbody>\n",
       "</table>\n",
       "<p>16389 rows × 6 columns</p>\n",
       "</div>"
      ],
      "text/plain": [
       "       Coolant temp  Fuel pressure  LOG(Engine rpm)  LOG(Lub oil pressure)  \\\n",
       "0          0.667503       3.461217         0.489719              -0.150091   \n",
       "1          0.216343      -0.039677        -1.096329              -0.132881   \n",
       "2         -1.051949       4.665488        -1.384423               0.433801   \n",
       "3          1.401378       3.295993        -0.566336               1.506421   \n",
       "4         -0.424310       0.006108         1.499546               0.618305   \n",
       "...             ...            ...              ...                    ...   \n",
       "16384      1.550402      -0.610450         0.578667               0.698008   \n",
       "16385     -0.543767       1.526731        -0.218536               1.094271   \n",
       "16386      1.294567      -0.630054        -0.262674              -0.391286   \n",
       "16387     -0.753892       0.591697        -0.209784              -0.022559   \n",
       "16388      0.341324      -0.980442        -1.191371               0.479247   \n",
       "\n",
       "       LOG(Coolant pressure)  lub oil temp  \n",
       "0                   0.321000      0.861804  \n",
       "1                  -1.505354      0.942753  \n",
       "2                   1.220953     -1.691039  \n",
       "3                  -0.077175      1.411526  \n",
       "4                   0.088088     -0.039633  \n",
       "...                      ...           ...  \n",
       "16384               1.555192     -0.366479  \n",
       "16385               2.323066     -0.853775  \n",
       "16386              -0.240761      0.283042  \n",
       "16387              -1.205383      0.526439  \n",
       "16388              -0.091643     -0.648093  \n",
       "\n",
       "[16389 rows x 6 columns]"
      ]
     },
     "execution_count": 64,
     "metadata": {},
     "output_type": "execute_result"
    }
   ],
   "source": [
    "X = pd.DataFrame(X,columns = columns)\n",
    "X"
   ]
  },
  {
   "cell_type": "code",
   "execution_count": 65,
   "id": "c2fedaf4-9c23-4f97-9f3b-595b12006eb8",
   "metadata": {
    "tags": []
   },
   "outputs": [],
   "source": [
    "import seaborn as sns"
   ]
  },
  {
   "cell_type": "code",
   "execution_count": 66,
   "id": "c4086122-6bc1-4d11-99d4-f5151c05a79a",
   "metadata": {
    "tags": []
   },
   "outputs": [
    {
     "data": {
      "image/png": "[encoded data removed]",
      "text/plain": [
       "<Figure size 500x500 with 1 Axes>"
      ]
     },
     "metadata": {},
     "output_type": "display_data"
    },
    {
     "data": {
      "image/png": "[encoded data removed]",
      "text/plain": [
       "<Figure size 500x500 with 1 Axes>"
      ]
     },
     "metadata": {},
     "output_type": "display_data"
    },
    {
     "data": {
      "image/png": "[encoded data removed]",
      "text/plain": [
       "<Figure size 500x500 with 1 Axes>"
      ]
     },
     "metadata": {},
     "output_type": "display_data"
    },
    {
     "data": {
      "image/png": "[encoded data removed]",
      "text/plain": [
       "<Figure size 500x500 with 1 Axes>"
      ]
     },
     "metadata": {},
     "output_type": "display_data"
    },
    {
     "data": {
      "image/png": "[encoded data removed]",
      "text/plain": [
       "<Figure size 500x500 with 1 Axes>"
      ]
     },
     "metadata": {},
     "output_type": "display_data"
    },
    {
     "data": {
      "image/png": "[encoded data removed]",
      "text/plain": [
       "<Figure size 500x500 with 1 Axes>"
      ]
     },
     "metadata": {},
     "output_type": "display_data"
    }
   ],
   "source": [
    "for key in X.columns :\n",
    "    sns.displot(X[key])"
   ]
  },
  {
   "cell_type": "code",
   "execution_count": 67,
   "id": "527c2869-0195-4dda-92e1-02efb4bbafce",
   "metadata": {
    "tags": []
   },
   "outputs": [],
   "source": [
    "vif = pd.DataFrame()\n",
    "vif['features'] = X.columns"
   ]
  },
  {
   "cell_type": "code",
   "execution_count": 68,
   "id": "9931b8b1-1050-4caa-b51b-560c74c7a643",
   "metadata": {
    "tags": []
   },
   "outputs": [
    {
     "data": {
      "text/html": [
       "<div>\n",
       "<style scoped>\n",
       "    .dataframe tbody tr th:only-of-type {\n",
       "        vertical-align: middle;\n",
       "    }\n",
       "\n",
       "    .dataframe tbody tr th {\n",
       "        vertical-align: top;\n",
       "    }\n",
       "\n",
       "    .dataframe thead th {\n",
       "        text-align: right;\n",
       "    }\n",
       "</style>\n",
       "<table border=\"1\" class=\"dataframe\">\n",
       "  <thead>\n",
       "    <tr style=\"text-align: right;\">\n",
       "      <th></th>\n",
       "      <th>features</th>\n",
       "    </tr>\n",
       "  </thead>\n",
       "  <tbody>\n",
       "    <tr>\n",
       "      <th>0</th>\n",
       "      <td>Coolant temp</td>\n",
       "    </tr>\n",
       "    <tr>\n",
       "      <th>1</th>\n",
       "      <td>Fuel pressure</td>\n",
       "    </tr>\n",
       "    <tr>\n",
       "      <th>2</th>\n",
       "      <td>LOG(Engine rpm)</td>\n",
       "    </tr>\n",
       "    <tr>\n",
       "      <th>3</th>\n",
       "      <td>LOG(Lub oil pressure)</td>\n",
       "    </tr>\n",
       "    <tr>\n",
       "      <th>4</th>\n",
       "      <td>LOG(Coolant pressure)</td>\n",
       "    </tr>\n",
       "    <tr>\n",
       "      <th>5</th>\n",
       "      <td>lub oil temp</td>\n",
       "    </tr>\n",
       "  </tbody>\n",
       "</table>\n",
       "</div>"
      ],
      "text/plain": [
       "                features\n",
       "0           Coolant temp\n",
       "1          Fuel pressure\n",
       "2        LOG(Engine rpm)\n",
       "3  LOG(Lub oil pressure)\n",
       "4  LOG(Coolant pressure)\n",
       "5           lub oil temp"
      ]
     },
     "execution_count": 68,
     "metadata": {},
     "output_type": "execute_result"
    }
   ],
   "source": [
    "vif"
   ]
  },
  {
   "cell_type": "code",
   "execution_count": 69,
   "id": "5a43efef-6e0c-44fd-b0dd-56b6721c26de",
   "metadata": {
    "tags": []
   },
   "outputs": [
    {
     "data": {
      "text/plain": [
       "(16389, 6)"
      ]
     },
     "execution_count": 69,
     "metadata": {},
     "output_type": "execute_result"
    }
   ],
   "source": [
    "X.shape"
   ]
  },
  {
   "cell_type": "code",
   "execution_count": 70,
   "id": "45c36a41-e1c6-4aae-b77e-8576534835f1",
   "metadata": {
    "tags": []
   },
   "outputs": [],
   "source": [
    "vif['Variance Inflation Factor'] = [variance_inflation_factor(X.values,i) for i in range(X.shape[1])]"
   ]
  },
  {
   "cell_type": "code",
   "execution_count": 71,
   "id": "72e070a7-8310-4244-9a75-95688f52cfdc",
   "metadata": {
    "tags": []
   },
   "outputs": [
    {
     "data": {
      "text/html": [
       "<div>\n",
       "<style scoped>\n",
       "    .dataframe tbody tr th:only-of-type {\n",
       "        vertical-align: middle;\n",
       "    }\n",
       "\n",
       "    .dataframe tbody tr th {\n",
       "        vertical-align: top;\n",
       "    }\n",
       "\n",
       "    .dataframe thead th {\n",
       "        text-align: right;\n",
       "    }\n",
       "</style>\n",
       "<table border=\"1\" class=\"dataframe\">\n",
       "  <thead>\n",
       "    <tr style=\"text-align: right;\">\n",
       "      <th></th>\n",
       "      <th>features</th>\n",
       "      <th>Variance Inflation Factor</th>\n",
       "    </tr>\n",
       "  </thead>\n",
       "  <tbody>\n",
       "    <tr>\n",
       "      <th>0</th>\n",
       "      <td>Coolant temp</td>\n",
       "      <td>1.012602</td>\n",
       "    </tr>\n",
       "    <tr>\n",
       "      <th>1</th>\n",
       "      <td>Fuel pressure</td>\n",
       "      <td>1.006618</td>\n",
       "    </tr>\n",
       "    <tr>\n",
       "      <th>2</th>\n",
       "      <td>LOG(Engine rpm)</td>\n",
       "      <td>1.005451</td>\n",
       "    </tr>\n",
       "    <tr>\n",
       "      <th>3</th>\n",
       "      <td>LOG(Lub oil pressure)</td>\n",
       "      <td>1.005486</td>\n",
       "    </tr>\n",
       "    <tr>\n",
       "      <th>4</th>\n",
       "      <td>LOG(Coolant pressure)</td>\n",
       "      <td>1.005077</td>\n",
       "    </tr>\n",
       "    <tr>\n",
       "      <th>5</th>\n",
       "      <td>lub oil temp</td>\n",
       "      <td>1.011614</td>\n",
       "    </tr>\n",
       "  </tbody>\n",
       "</table>\n",
       "</div>"
      ],
      "text/plain": [
       "                features  Variance Inflation Factor\n",
       "0           Coolant temp                   1.012602\n",
       "1          Fuel pressure                   1.006618\n",
       "2        LOG(Engine rpm)                   1.005451\n",
       "3  LOG(Lub oil pressure)                   1.005486\n",
       "4  LOG(Coolant pressure)                   1.005077\n",
       "5           lub oil temp                   1.011614"
      ]
     },
     "execution_count": 71,
     "metadata": {},
     "output_type": "execute_result"
    }
   ],
   "source": [
    "vif"
   ]
  },
  {
   "cell_type": "code",
   "execution_count": 72,
   "id": "fa129253-b937-4554-b317-db28a4bfffe5",
   "metadata": {
    "tags": []
   },
   "outputs": [],
   "source": [
    "# NOW WE ARE GOING TO CHECK THE ACCURACIES OF VARIOUS CLASSIFICATION MODELS \n",
    "\n",
    "\n",
    "# CONVENTIONAL MACHINE LEARNING METHODS \n",
    "\n",
    "# 1) LOGISTIC REGRESSION\n",
    "# 2) NAIVE BAYES CLASSIFIER\n",
    "# 3) KNN \n",
    "# 4) SUPPORT VECTOR MACHINE "
   ]
  },
  {
   "cell_type": "code",
   "execution_count": 73,
   "id": "39e97bee-99c2-41cd-8d17-507cb37446f6",
   "metadata": {
    "tags": []
   },
   "outputs": [],
   "source": [
    "import numpy as np\n",
    "X = np.array(X)"
   ]
  },
  {
   "cell_type": "code",
   "execution_count": 74,
   "id": "dfaaf374-bade-4704-bce0-e4d34013f98d",
   "metadata": {
    "tags": []
   },
   "outputs": [
    {
     "data": {
      "text/plain": [
       "array([[ 0.6675031 ,  3.46121742,  0.48971912, -0.1500906 ,  0.32099964,\n",
       "         0.86180427],\n",
       "       [ 0.21634279, -0.03967712, -1.09632899, -0.13288061, -1.50535384,\n",
       "         0.94275269],\n",
       "       [-1.05194854,  4.66548843, -1.38442301,  0.43380141,  1.22095283,\n",
       "        -1.69103884],\n",
       "       ...,\n",
       "       [ 1.29456651, -0.63005357, -0.2626744 , -0.39128593, -0.24076125,\n",
       "         0.28304224],\n",
       "       [-0.75389249,  0.59169651, -0.20978433, -0.02255864, -1.2053828 ,\n",
       "         0.52643906],\n",
       "       [ 0.34132374, -0.98044207, -1.19137117,  0.47924675, -0.09164268,\n",
       "        -0.64809276]])"
      ]
     },
     "execution_count": 74,
     "metadata": {},
     "output_type": "execute_result"
    }
   ],
   "source": [
    "X"
   ]
  },
  {
   "cell_type": "code",
   "execution_count": 75,
   "id": "6acc96de-578b-479c-b722-c87b3aafdd40",
   "metadata": {
    "tags": []
   },
   "outputs": [
    {
     "data": {
      "text/plain": [
       "0        0\n",
       "1        1\n",
       "2        1\n",
       "3        0\n",
       "4        0\n",
       "        ..\n",
       "16384    1\n",
       "16385    1\n",
       "16386    1\n",
       "16387    1\n",
       "16388    1\n",
       "Name: Engine Condition, Length: 16389, dtype: int64"
      ]
     },
     "execution_count": 75,
     "metadata": {},
     "output_type": "execute_result"
    }
   ],
   "source": [
    "y"
   ]
  },
  {
   "cell_type": "code",
   "execution_count": 76,
   "id": "dd3a962e-34d6-43a5-a0c9-714065350471",
   "metadata": {
    "tags": []
   },
   "outputs": [
    {
     "name": "stdout",
     "output_type": "stream",
     "text": [
      "(16389, 6)\n",
      "(16389,)\n"
     ]
    }
   ],
   "source": [
    "print(X.shape)\n",
    "print(y.shape)"
   ]
  },
  {
   "cell_type": "code",
   "execution_count": 77,
   "id": "52933411-8905-4be9-9382-6dbd2c3cba10",
   "metadata": {
    "tags": []
   },
   "outputs": [],
   "source": [
    "from sklearn.model_selection import train_test_split\n",
    "X_train,X_test,y_train,y_test = train_test_split(X,y,test_size = 0.2,random_state = 40)"
   ]
  },
  {
   "cell_type": "code",
   "execution_count": 78,
   "id": "97b9f994-4e53-48dd-99c1-edad84ff568c",
   "metadata": {
    "tags": []
   },
   "outputs": [
    {
     "name": "stdout",
     "output_type": "stream",
     "text": [
      "(13111, 6)\n",
      "(3278, 6)\n",
      "(13111,)\n",
      "(3278,)\n"
     ]
    }
   ],
   "source": [
    "print(X_train.shape)\n",
    "print(X_test.shape)\n",
    "print(y_train.shape)\n",
    "print(y_test.shape)"
   ]
  },
  {
   "cell_type": "code",
   "execution_count": 79,
   "id": "942524a0-b70f-4d8a-92e4-5a8b1f73f6a4",
   "metadata": {
    "tags": []
   },
   "outputs": [
    {
     "name": "stdout",
     "output_type": "stream",
     "text": [
      "ACCURACY OF RBF KERNEL - SVM:  0.6665649786455156\n"
     ]
    },
    {
     "data": {
      "image/png": "[encoded data removed]",
      "text/plain": [
       "<Figure size 640x480 with 2 Axes>"
      ]
     },
     "metadata": {},
     "output_type": "display_data"
    }
   ],
   "source": [
    "from sklearn.svm import SVC\n",
    "from sklearn import metrics \n",
    "from sklearn.metrics import confusion_matrix\n",
    "from sklearn.metrics import accuracy_score,precision_score,recall_score,f1_score\n",
    "\n",
    "\n",
    "rbf_kernel = SVC(kernel = 'rbf')\n",
    "rbf_kernel.fit(X_train,y_train)\n",
    "\n",
    "y_pred = rbf_kernel.predict(X_test)\n",
    "print(\"ACCURACY OF RBF KERNEL - SVM: \",metrics.accuracy_score(y_test,y_pred))\n",
    "\n",
    "cm = confusion_matrix(y_test,y_pred)\n",
    "sns.heatmap(cm,\n",
    "            annot = True,\n",
    "            fmt = 'g',\n",
    "            xticklabels=['0','1'],\n",
    "            yticklabels=['0','1'])\n",
    "plt.ylabel('Prediction',fontsize=13)\n",
    "plt.xlabel('Actual',fontsize=13)\n",
    "plt.title('Confusion Matrix',fontsize=17)\n",
    "plt.show()\n"
   ]
  },
  {
   "cell_type": "code",
   "execution_count": 80,
   "id": "8b61b2e4-4783-4464-83a8-166533e2b314",
   "metadata": {
    "tags": []
   },
   "outputs": [
    {
     "name": "stdout",
     "output_type": "stream",
     "text": [
      "ACCURACY OF LINEAR KERNEL - SVM:  0.6357535082367297\n"
     ]
    },
    {
     "data": {
      "image/png": "[encoded data removed]",
      "text/plain": [
       "<Figure size 640x480 with 2 Axes>"
      ]
     },
     "metadata": {},
     "output_type": "display_data"
    }
   ],
   "source": [
    "from sklearn.svm import SVC\n",
    "from sklearn import metrics \n",
    "\n",
    "rbf_kernel = SVC(kernel = 'linear',random_state = 0)\n",
    "rbf_kernel.fit(X_train,y_train)\n",
    "\n",
    "y_pred = rbf_kernel.predict(X_test)\n",
    "print(\"ACCURACY OF LINEAR KERNEL - SVM: \",metrics.accuracy_score(y_test,y_pred))\n",
    "\n",
    "cm = confusion_matrix(y_test,y_pred)\n",
    "sns.heatmap(cm,\n",
    "            annot = True,\n",
    "            fmt = 'g',\n",
    "            xticklabels=['0','1'],\n",
    "            yticklabels=['0','1'])\n",
    "plt.ylabel('Prediction',fontsize=13)\n",
    "plt.xlabel('Actual',fontsize=13)\n",
    "plt.title('Confusion Matrix',fontsize=17)\n",
    "plt.show()"
   ]
  },
  {
   "cell_type": "code",
   "execution_count": null,
   "id": "10afe595-9b76-4ad1-8ff7-d85cb676cb96",
   "metadata": {
    "tags": []
   },
   "outputs": [],
   "source": [
    "from sklearn.linear_model import LogisticRegression\n",
    "lr_classifier = LogisticRegression(random_state = 0)\n",
    "lr_classifier.fit(X_train,y_train)\n",
    "\n",
    "y_pred = lr_classifier.predict(X_test)\n",
    "print('ACCURACY OF LOGISTIC REGRESSION :',metrics.accuracy_score(y_test,y_pred))"
   ]
  },
  {
   "cell_type": "code",
   "execution_count": null,
   "id": "feb10f11-b796-4371-8637-4f3a7f245bcc",
   "metadata": {
    "tags": []
   },
   "outputs": [],
   "source": [
    "from sklearn.naive_bayes import GaussianNB\n",
    "\n",
    "gnb = GaussianNB()\n",
    "gnb.fit(X_train,y_train)\n",
    "\n",
    "y_pred = gnb.predict(X_test)\n",
    "print('ACCURACY OF NAIVE BAYES CLASSIFIER :',metrics.accuracy_score(y_test,y_pred))"
   ]
  },
  {
   "cell_type": "code",
   "execution_count": null,
   "id": "a218d7df-1f25-4e19-9cb4-9cd98f357473",
   "metadata": {},
   "outputs": [],
   "source": []
  },
  {
   "cell_type": "code",
   "execution_count": null,
   "id": "6b63e863-c603-4f5e-b1ed-01fec3ea22a8",
   "metadata": {},
   "outputs": [],
   "source": []
  },
  {
   "cell_type": "code",
   "execution_count": null,
   "id": "c1a33c0f-47dc-440e-8cc9-e4ada33c4aa0",
   "metadata": {},
   "outputs": [],
   "source": []
  }
 ],
 "metadata": {
  "kernelspec": {
   "display_name": "Python 3 (ipykernel)",
   "language": "python",
   "name": "python3"
  },
  "language_info": {
   "codemirror_mode": {
    "name": "ipython",
    "version": 3
   },
   "file_extension": ".py",
   "mimetype": "text/x-python",
   "name": "python",
   "nbconvert_exporter": "python",
   "pygments_lexer": "ipython3",
   "version": "3.10.8"
  },
  "widgets": {
   "application/vnd.jupyter.widget-state+json": {
    "state": {},
    "version_major": 2,
    "version_minor": 0
   }
  }
 },
 "nbformat": 4,
 "nbformat_minor": 5
}
